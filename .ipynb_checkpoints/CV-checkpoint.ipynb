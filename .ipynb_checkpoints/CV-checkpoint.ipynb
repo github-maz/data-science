{
 "cells": [
  {
   "cell_type": "markdown",
   "id": "634694e2",
   "metadata": {},
   "source": [
    "# Muslim ALi Zafar"
   ]
  },
  {
   "cell_type": "markdown",
   "id": "366b3b3c",
   "metadata": {},
   "source": [
    "**MSDSF23M007@pucit.edu.com**\n",
    "\\\n",
    "**+92-310-6115047**\n",
    "\\\n",
    "(https://pk.linkedin.com/)"
   ]
  },
  {
   "cell_type": "markdown",
   "id": "8f82dd9e",
   "metadata": {},
   "source": [
    "## EDUCATION"
   ]
  },
  {
   "cell_type": "markdown",
   "id": "44b0ccf0",
   "metadata": {},
   "source": [
    "**1- BS. Computer Science**\\\n",
    "    Balochistan University of Information Technology, Engineering and Management Sciences.\n",
    "    \\\n",
    "    [2016-2020]\n",
    "    \\\n",
    "    \\\n",
    "**2- Ms. Data Science**\\\n",
    "    University of the Punjab.\n",
    "    \\\n",
    "    [2023 - cont...]\n",
    "    "
   ]
  },
  {
   "cell_type": "markdown",
   "id": "e971a465",
   "metadata": {},
   "source": [
    "## WORK EXPERIENCE"
   ]
  },
  {
   "cell_type": "markdown",
   "id": "cb94e108",
   "metadata": {},
   "source": [
    "**1. Assistant Data and Account Manager**\n",
    "\\\n",
    "Al-Nasr Rehabilitation center Quetta.\n",
    "\\\n",
    "[2021-2022]\n",
    "\\\n",
    "\\\n",
    "**2. Communication officer**\n",
    "\\\n",
    "Al-Nasr Rehabilitation center Quetta.\n",
    "\\\n",
    "[2022-2023]"
   ]
  },
  {
   "cell_type": "markdown",
   "id": "47e5deb6",
   "metadata": {},
   "source": [
    "### skills\n",
    "C++, Python, Kotlin, java, MongoDB, MySQL\n"
   ]
  },
  {
   "cell_type": "markdown",
   "id": "69f7671d",
   "metadata": {},
   "source": [
    "### Strengths\n",
    "- Hardworking\n",
    "- Focused\n",
    "- Responsible"
   ]
  },
  {
   "cell_type": "markdown",
   "id": "1be81c0c",
   "metadata": {},
   "source": [
    "---\n",
    "---\n",
    "---\n",
    "---\n",
    "---\n"
   ]
  },
  {
   "cell_type": "markdown",
   "id": "a8cc6a7e",
   "metadata": {},
   "source": [
    "*LONE WOLF, This is what i am*"
   ]
  },
  {
   "cell_type": "code",
   "execution_count": null,
   "id": "d6531317",
   "metadata": {},
   "outputs": [],
   "source": []
  }
 ],
 "metadata": {
  "kernelspec": {
   "display_name": "Python 3 (ipykernel)",
   "language": "python",
   "name": "python3"
  },
  "language_info": {
   "codemirror_mode": {
    "name": "ipython",
    "version": 3
   },
   "file_extension": ".py",
   "mimetype": "text/x-python",
   "name": "python",
   "nbconvert_exporter": "python",
   "pygments_lexer": "ipython3",
   "version": "3.11.5"
  }
 },
 "nbformat": 4,
 "nbformat_minor": 5
}
